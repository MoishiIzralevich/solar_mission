{
 "cells": [
  {
   "cell_type": "code",
   "execution_count": 6,
   "id": "53468e55",
   "metadata": {},
   "outputs": [],
   "source": [
    "import numpy as np\n",
    "from flask_restful import reqparse\n",
    "from torch.utils.data import DataLoader\n",
    "from torch import nn\n",
    "import torch\n",
    "import torch.nn.functional as F\n",
    "import cv2\n",
    "from matplotlib import pyplot as plt\n",
    "\n",
    "from flask import Flask\n",
    "\n",
    "app = Flask(__name__)\n"
   ]
  },
  {
   "cell_type": "code",
   "execution_count": 7,
   "id": "f48b5f83",
   "metadata": {},
   "outputs": [
    {
     "data": {
      "text/plain": [
       "NeuralNetwork_OL_v2(\n",
       "  (conv0): Conv2d(1, 16, kernel_size=(3, 3), stride=(1, 1), padding=(2, 2))\n",
       "  (pool0): MaxPool2d(kernel_size=2, stride=2, padding=0, dilation=1, ceil_mode=False)\n",
       "  (conv1): Conv2d(16, 16, kernel_size=(3, 3), stride=(1, 1), padding=(3, 3))\n",
       "  (pool1): MaxPool2d(kernel_size=2, stride=2, padding=0, dilation=1, ceil_mode=False)\n",
       "  (flatten): Flatten(start_dim=1, end_dim=-1)\n",
       "  (linear_relu_stack): Sequential(\n",
       "    (0): Linear(in_features=10000, out_features=256, bias=True)\n",
       "    (1): ReLU()\n",
       "  )\n",
       "  (linear): Linear(in_features=256, out_features=10, bias=True)\n",
       "  (linear_x): Linear(in_features=256, out_features=1, bias=True)\n",
       "  (linear_y): Linear(in_features=256, out_features=1, bias=True)\n",
       "  (linear_all): Linear(in_features=256, out_features=2, bias=True)\n",
       ")"
      ]
     },
     "execution_count": 7,
     "metadata": {},
     "output_type": "execute_result"
    }
   ],
   "source": [
    "\n",
    "class NeuralNetwork_OL_v2(nn.Module):\n",
    "  \n",
    "    def __init__(self):\n",
    "        super(NeuralNetwork_OL_v2, self).__init__()\n",
    "        \n",
    "        self.conv0 = nn.Conv2d(1, 16, 3, padding=(2,2)) # 3x3 filters w/ same padding\n",
    "        self.pool0 = nn.MaxPool2d(2, stride=2)\n",
    "        self.conv1 = nn.Conv2d(16, 16, 3, padding=(3,3)) # 3x3 filters w/ same padding\n",
    "        self.pool1 = nn.MaxPool2d(2, stride=2)\n",
    "        self.flatten = nn.Flatten()\n",
    "        self.linear_relu_stack = nn.Sequential(\n",
    "            nn.Linear(16*25*25, 256), \n",
    "             nn.ReLU(),\n",
    "        )\n",
    "        self.linear = nn.Linear(256, 10)\n",
    "        self.linear_x = nn.Linear(256, 1)\n",
    "        self.linear_y = nn.Linear(256, 1)\n",
    "        self.linear_all = nn.Linear(256, 2)\n",
    "        \n",
    "    def forward(self, x):\n",
    "        x = self.conv0(x)\n",
    "        x = F.relu(self.pool0(x))\n",
    "        x = self.conv1(x)\n",
    "        x = F.relu(self.pool1(x))\n",
    "        x = self.flatten(x)\n",
    "        x = self.linear_relu_stack(x)\n",
    "        logits = self.linear(x)\n",
    "        centr = self.linear_all(x)\n",
    "        return logits, centr\n",
    "\n",
    "        \n",
    "model = NeuralNetwork_OL_v2()\n",
    "\n",
    "model.load_state_dict(torch.load('/home/george/new_model2'))\n",
    "model.eval()\n",
    "\n"
   ]
  },
  {
   "cell_type": "code",
   "execution_count": 8,
   "id": "b90a4a81",
   "metadata": {},
   "outputs": [
    {
     "name": "stdout",
     "output_type": "stream",
     "text": [
      " * Serving Flask app '__main__' (lazy loading)\n",
      " * Environment: production\n",
      "\u001b[31m   WARNING: This is a development server. Do not use it in a production deployment.\u001b[0m\n",
      "\u001b[2m   Use a production WSGI server instead.\u001b[0m\n",
      " * Debug mode: off\n"
     ]
    },
    {
     "name": "stderr",
     "output_type": "stream",
     "text": [
      " * Running on http://127.0.0.1:8090/ (Press CTRL+C to quit)\n"
     ]
    }
   ],
   "source": [
    "\n",
    "\n",
    "@app.route('/predict', methods=['POST'])\n",
    "def predict():\n",
    "    img = reqparse.request.files['file'].read()\n",
    "    npimg = np.fromstring(img, np.uint8)\n",
    "    img = cv2.imdecode(npimg, cv2.IMREAD_UNCHANGED)\n",
    "    plt.imshow(img)\n",
    "    plt.show()\n",
    "    img = np.reshape(img, (1, 1, img.shape[0], img.shape[1]))\n",
    "\n",
    "    img_dataloader = DataLoader(img, batch_size=64, shuffle=False)\n",
    "\n",
    "    X = next(iter(img_dataloader))\n",
    "\n",
    "    digit_pred, center_pred = model(X.float())\n",
    "    center_pred = center_pred.tolist()\n",
    "    predicted_digit = np.argmax(digit_pred[0].cpu().detach().numpy())\n",
    "    \n",
    "    return {'prediction': int(predicted_digit), 'y_center': center_pred[0][0], 'x_center': center_pred[0][1]}\n",
    "\n",
    "\n",
    "if __name__ == '__main__':\n",
    "    app.run(port=8090)\n"
   ]
  },
  {
   "cell_type": "code",
   "execution_count": null,
   "id": "d9326422",
   "metadata": {},
   "outputs": [],
   "source": []
  }
 ],
 "metadata": {
  "kernelspec": {
   "display_name": "Python 3 (ipykernel)",
   "language": "python",
   "name": "python3"
  },
  "language_info": {
   "codemirror_mode": {
    "name": "ipython",
    "version": 3
   },
   "file_extension": ".py",
   "mimetype": "text/x-python",
   "name": "python",
   "nbconvert_exporter": "python",
   "pygments_lexer": "ipython3",
   "version": "3.8.10"
  }
 },
 "nbformat": 4,
 "nbformat_minor": 5
}
